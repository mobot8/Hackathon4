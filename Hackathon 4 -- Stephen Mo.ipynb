{
 "cells": [
  {
   "cell_type": "markdown",
   "metadata": {},
   "source": [
    "# Hackathon 4 - Stephen Mo\n",
    "\n",
    "## Brief\n",
    "You are the data analyst for a financial institution that provides credit cards and loans to private individuals. Your role is pivotal in both performance reporting and analysis, as well as lending insight and direction to possible business decisions. Your manager has an important meeting with senior executives in one week's time to discuss business performance.\n",
    "\n",
    "As the data analyst, your manager has requested that you produce a short report showing the following:\n",
    "\n",
    "1. Part A - how loans are performing by district\n",
    "2. Part B - a breakdown of default rates by client demographic (age, gender)\n",
    "3. Part C - you are also expected to advise on any issues you feel may face the organisation based on your report"
   ]
  },
  {
   "cell_type": "markdown",
   "metadata": {},
   "source": [
    "\n",
    "## Import Libraries"
   ]
  },
  {
   "cell_type": "code",
   "execution_count": 1,
   "metadata": {},
   "outputs": [],
   "source": [
    "# pandas and numpy are used for data manipulation\n",
    "import pandas as pd\n",
    "import numpy as np\n",
    "\n",
    "# matplotlib and seaborn are for data visualisation\n",
    "import matplotlib.pyplot as plt\n",
    "import seaborn as sns"
   ]
  },
  {
   "cell_type": "markdown",
   "metadata": {},
   "source": [
    "## Part A - how loans are performing by district\n",
    "### Source Data (A)\n",
    "\n",
    "The financial data was presented in 8 data tables in the database schema. I queried the data using SQL using SELECT, LEFT JOIN, GROUP BY and CUBE function to produce the .CSV file"
   ]
  },
  {
   "cell_type": "code",
   "execution_count": 2,
   "metadata": {},
   "outputs": [],
   "source": [
    "# import the .csv file\n",
    "df = pd.read_csv('loan_amounts.csv')"
   ]
  },
  {
   "cell_type": "code",
   "execution_count": 3,
   "metadata": {},
   "outputs": [
    {
     "data": {
      "text/html": [
       "<div>\n",
       "<style scoped>\n",
       "    .dataframe tbody tr th:only-of-type {\n",
       "        vertical-align: middle;\n",
       "    }\n",
       "\n",
       "    .dataframe tbody tr th {\n",
       "        vertical-align: top;\n",
       "    }\n",
       "\n",
       "    .dataframe thead th {\n",
       "        text-align: right;\n",
       "    }\n",
       "</style>\n",
       "<table border=\"1\" class=\"dataframe\">\n",
       "  <thead>\n",
       "    <tr style=\"text-align: right;\">\n",
       "      <th></th>\n",
       "      <th>a2</th>\n",
       "      <th>status</th>\n",
       "      <th>loantotal</th>\n",
       "    </tr>\n",
       "  </thead>\n",
       "  <tbody>\n",
       "    <tr>\n",
       "      <th>0</th>\n",
       "      <td>Benesov</td>\n",
       "      <td>A</td>\n",
       "      <td>107640</td>\n",
       "    </tr>\n",
       "    <tr>\n",
       "      <th>1</th>\n",
       "      <td>Benesov</td>\n",
       "      <td>C</td>\n",
       "      <td>780312</td>\n",
       "    </tr>\n",
       "    <tr>\n",
       "      <th>2</th>\n",
       "      <td>Benesov</td>\n",
       "      <td>NaN</td>\n",
       "      <td>887952</td>\n",
       "    </tr>\n",
       "    <tr>\n",
       "      <th>3</th>\n",
       "      <td>Beroun</td>\n",
       "      <td>A</td>\n",
       "      <td>19248</td>\n",
       "    </tr>\n",
       "    <tr>\n",
       "      <th>4</th>\n",
       "      <td>Beroun</td>\n",
       "      <td>C</td>\n",
       "      <td>913872</td>\n",
       "    </tr>\n",
       "  </tbody>\n",
       "</table>\n",
       "</div>"
      ],
      "text/plain": [
       "        a2 status  loantotal\n",
       "0  Benesov      A     107640\n",
       "1  Benesov      C     780312\n",
       "2  Benesov    NaN     887952\n",
       "3   Beroun      A      19248\n",
       "4   Beroun      C     913872"
      ]
     },
     "execution_count": 3,
     "metadata": {},
     "output_type": "execute_result"
    }
   ],
   "source": [
    "# see first 5 rows\n",
    "df.head()"
   ]
  },
  {
   "cell_type": "markdown",
   "metadata": {},
   "source": [
    "### Cleanse Data (A)"
   ]
  },
  {
   "cell_type": "markdown",
   "metadata": {},
   "source": [
    "Rename a2 heading to 'district name'"
   ]
  },
  {
   "cell_type": "code",
   "execution_count": 4,
   "metadata": {},
   "outputs": [],
   "source": [
    "df.rename(columns={'a2': 'district name'}, inplace=True)"
   ]
  },
  {
   "cell_type": "code",
   "execution_count": 5,
   "metadata": {},
   "outputs": [
    {
     "data": {
      "text/html": [
       "<div>\n",
       "<style scoped>\n",
       "    .dataframe tbody tr th:only-of-type {\n",
       "        vertical-align: middle;\n",
       "    }\n",
       "\n",
       "    .dataframe tbody tr th {\n",
       "        vertical-align: top;\n",
       "    }\n",
       "\n",
       "    .dataframe thead th {\n",
       "        text-align: right;\n",
       "    }\n",
       "</style>\n",
       "<table border=\"1\" class=\"dataframe\">\n",
       "  <thead>\n",
       "    <tr style=\"text-align: right;\">\n",
       "      <th></th>\n",
       "      <th>district name</th>\n",
       "      <th>status</th>\n",
       "      <th>loantotal</th>\n",
       "    </tr>\n",
       "  </thead>\n",
       "  <tbody>\n",
       "    <tr>\n",
       "      <th>0</th>\n",
       "      <td>Benesov</td>\n",
       "      <td>A</td>\n",
       "      <td>107640</td>\n",
       "    </tr>\n",
       "    <tr>\n",
       "      <th>1</th>\n",
       "      <td>Benesov</td>\n",
       "      <td>C</td>\n",
       "      <td>780312</td>\n",
       "    </tr>\n",
       "    <tr>\n",
       "      <th>2</th>\n",
       "      <td>Benesov</td>\n",
       "      <td>NaN</td>\n",
       "      <td>887952</td>\n",
       "    </tr>\n",
       "    <tr>\n",
       "      <th>3</th>\n",
       "      <td>Beroun</td>\n",
       "      <td>A</td>\n",
       "      <td>19248</td>\n",
       "    </tr>\n",
       "    <tr>\n",
       "      <th>4</th>\n",
       "      <td>Beroun</td>\n",
       "      <td>C</td>\n",
       "      <td>913872</td>\n",
       "    </tr>\n",
       "  </tbody>\n",
       "</table>\n",
       "</div>"
      ],
      "text/plain": [
       "  district name status  loantotal\n",
       "0       Benesov      A     107640\n",
       "1       Benesov      C     780312\n",
       "2       Benesov    NaN     887952\n",
       "3        Beroun      A      19248\n",
       "4        Beroun      C     913872"
      ]
     },
     "execution_count": 5,
     "metadata": {},
     "output_type": "execute_result"
    }
   ],
   "source": [
    "# a2 heading name changed\n",
    "df.head()"
   ]
  },
  {
   "cell_type": "markdown",
   "metadata": {},
   "source": [
    "The NaN were generated when the CUBE function was used in SQL. These should be renamed to 'Total'"
   ]
  },
  {
   "cell_type": "code",
   "execution_count": 6,
   "metadata": {},
   "outputs": [],
   "source": [
    "df = df.fillna('Total') "
   ]
  },
  {
   "cell_type": "code",
   "execution_count": 7,
   "metadata": {},
   "outputs": [
    {
     "data": {
      "text/html": [
       "<div>\n",
       "<style scoped>\n",
       "    .dataframe tbody tr th:only-of-type {\n",
       "        vertical-align: middle;\n",
       "    }\n",
       "\n",
       "    .dataframe tbody tr th {\n",
       "        vertical-align: top;\n",
       "    }\n",
       "\n",
       "    .dataframe thead th {\n",
       "        text-align: right;\n",
       "    }\n",
       "</style>\n",
       "<table border=\"1\" class=\"dataframe\">\n",
       "  <thead>\n",
       "    <tr style=\"text-align: right;\">\n",
       "      <th></th>\n",
       "      <th>district name</th>\n",
       "      <th>status</th>\n",
       "      <th>loantotal</th>\n",
       "    </tr>\n",
       "  </thead>\n",
       "  <tbody>\n",
       "    <tr>\n",
       "      <th>0</th>\n",
       "      <td>Benesov</td>\n",
       "      <td>A</td>\n",
       "      <td>107640</td>\n",
       "    </tr>\n",
       "    <tr>\n",
       "      <th>1</th>\n",
       "      <td>Benesov</td>\n",
       "      <td>C</td>\n",
       "      <td>780312</td>\n",
       "    </tr>\n",
       "    <tr>\n",
       "      <th>2</th>\n",
       "      <td>Benesov</td>\n",
       "      <td>Total</td>\n",
       "      <td>887952</td>\n",
       "    </tr>\n",
       "    <tr>\n",
       "      <th>3</th>\n",
       "      <td>Beroun</td>\n",
       "      <td>A</td>\n",
       "      <td>19248</td>\n",
       "    </tr>\n",
       "    <tr>\n",
       "      <th>4</th>\n",
       "      <td>Beroun</td>\n",
       "      <td>C</td>\n",
       "      <td>913872</td>\n",
       "    </tr>\n",
       "  </tbody>\n",
       "</table>\n",
       "</div>"
      ],
      "text/plain": [
       "  district name status  loantotal\n",
       "0       Benesov      A     107640\n",
       "1       Benesov      C     780312\n",
       "2       Benesov  Total     887952\n",
       "3        Beroun      A      19248\n",
       "4        Beroun      C     913872"
      ]
     },
     "execution_count": 7,
     "metadata": {},
     "output_type": "execute_result"
    }
   ],
   "source": [
    "# NaNs are gone\n",
    "df.head()"
   ]
  },
  {
   "cell_type": "code",
   "execution_count": 8,
   "metadata": {},
   "outputs": [
    {
     "name": "stdout",
     "output_type": "stream",
     "text": [
      "<class 'pandas.core.frame.DataFrame'>\n",
      "RangeIndex: 280 entries, 0 to 279\n",
      "Data columns (total 3 columns):\n",
      "district name    280 non-null object\n",
      "status           280 non-null object\n",
      "loantotal        280 non-null int64\n",
      "dtypes: int64(1), object(2)\n",
      "memory usage: 6.6+ KB\n"
     ]
    }
   ],
   "source": [
    "# check structure and data type\n",
    "df.info()"
   ]
  },
  {
   "cell_type": "markdown",
   "metadata": {},
   "source": [
    "### Explore Data (A)"
   ]
  },
  {
   "cell_type": "markdown",
   "metadata": {},
   "source": [
    "The goal is to calculate each loan status as a ratio of the total for each district. \n",
    "* Loan status A - contract finished, no problems. These are past performing loans\n",
    "* Loan status B - contract finished, loan not paid. These are past non-performing loans\n",
    "* Loan status C - contract running, no problems. These are current performing loans\n",
    "* Loan status D - contract running, client in debt. These are current non-performing loans"
   ]
  },
  {
   "cell_type": "code",
   "execution_count": 9,
   "metadata": {},
   "outputs": [],
   "source": [
    "# create dataframes for each loan status\n",
    "totals = df[df['status']=='Total']\n",
    "a_loans = df[df['status']=='A']\n",
    "b_loans = df[df['status']=='B']\n",
    "c_loans = df[df['status']=='C']\n",
    "d_loans = df[df['status']=='D']"
   ]
  },
  {
   "cell_type": "code",
   "execution_count": 10,
   "metadata": {},
   "outputs": [],
   "source": [
    "# join two dataframes - total to A loans\n",
    "joined_totals_a_loans = totals.merge(a_loans, on=\"district name\")"
   ]
  },
  {
   "cell_type": "code",
   "execution_count": 11,
   "metadata": {},
   "outputs": [
    {
     "data": {
      "text/html": [
       "<div>\n",
       "<style scoped>\n",
       "    .dataframe tbody tr th:only-of-type {\n",
       "        vertical-align: middle;\n",
       "    }\n",
       "\n",
       "    .dataframe tbody tr th {\n",
       "        vertical-align: top;\n",
       "    }\n",
       "\n",
       "    .dataframe thead th {\n",
       "        text-align: right;\n",
       "    }\n",
       "</style>\n",
       "<table border=\"1\" class=\"dataframe\">\n",
       "  <thead>\n",
       "    <tr style=\"text-align: right;\">\n",
       "      <th></th>\n",
       "      <th>district name</th>\n",
       "      <th>status_x</th>\n",
       "      <th>loantotal_x</th>\n",
       "      <th>status_y</th>\n",
       "      <th>loantotal_y</th>\n",
       "    </tr>\n",
       "  </thead>\n",
       "  <tbody>\n",
       "    <tr>\n",
       "      <th>0</th>\n",
       "      <td>Benesov</td>\n",
       "      <td>Total</td>\n",
       "      <td>887952</td>\n",
       "      <td>A</td>\n",
       "      <td>107640</td>\n",
       "    </tr>\n",
       "    <tr>\n",
       "      <th>1</th>\n",
       "      <td>Beroun</td>\n",
       "      <td>Total</td>\n",
       "      <td>1460796</td>\n",
       "      <td>A</td>\n",
       "      <td>19248</td>\n",
       "    </tr>\n",
       "    <tr>\n",
       "      <th>2</th>\n",
       "      <td>Blansko</td>\n",
       "      <td>Total</td>\n",
       "      <td>1191024</td>\n",
       "      <td>A</td>\n",
       "      <td>147660</td>\n",
       "    </tr>\n",
       "    <tr>\n",
       "      <th>3</th>\n",
       "      <td>Breclav</td>\n",
       "      <td>Total</td>\n",
       "      <td>1176792</td>\n",
       "      <td>A</td>\n",
       "      <td>123696</td>\n",
       "    </tr>\n",
       "    <tr>\n",
       "      <th>4</th>\n",
       "      <td>Brno - mesto</td>\n",
       "      <td>Total</td>\n",
       "      <td>4049400</td>\n",
       "      <td>A</td>\n",
       "      <td>213432</td>\n",
       "    </tr>\n",
       "  </tbody>\n",
       "</table>\n",
       "</div>"
      ],
      "text/plain": [
       "  district name status_x  loantotal_x status_y  loantotal_y\n",
       "0       Benesov    Total       887952        A       107640\n",
       "1        Beroun    Total      1460796        A        19248\n",
       "2       Blansko    Total      1191024        A       147660\n",
       "3       Breclav    Total      1176792        A       123696\n",
       "4  Brno - mesto    Total      4049400        A       213432"
      ]
     },
     "execution_count": 11,
     "metadata": {},
     "output_type": "execute_result"
    }
   ],
   "source": [
    "# appears to have worked\n",
    "joined_totals_a_loans.head()"
   ]
  },
  {
   "cell_type": "code",
   "execution_count": 12,
   "metadata": {},
   "outputs": [],
   "source": [
    "# repeat for B, C & D loans\n",
    "joined_totals_b_loans = totals.merge(b_loans, on=\"district name\")\n",
    "joined_totals_c_loans = totals.merge(c_loans, on=\"district name\")\n",
    "joined_totals_d_loans = totals.merge(d_loans, on=\"district name\")"
   ]
  },
  {
   "cell_type": "code",
   "execution_count": 13,
   "metadata": {},
   "outputs": [],
   "source": [
    "# work out ratio of A loans to total. A loans are past performing i.e. good ones\n",
    "joined_totals_a_loans['past performing loan ratio'] = joined_totals_a_loans['loantotal_y'] / joined_totals_a_loans['loantotal_x']"
   ]
  },
  {
   "cell_type": "code",
   "execution_count": 14,
   "metadata": {},
   "outputs": [],
   "source": [
    "# sort on past performing loan ratios. best districts at the top\n",
    "joined_totals_a_loans = joined_totals_a_loans.sort_values('past performing loan ratio', ascending=False)"
   ]
  },
  {
   "cell_type": "code",
   "execution_count": 15,
   "metadata": {},
   "outputs": [
    {
     "data": {
      "image/png": "[encoded data removed]",
      "text/plain": [
       "<Figure size 1080x360 with 1 Axes>"
      ]
     },
     "metadata": {
      "needs_background": "light"
     },
     "output_type": "display_data"
    }
   ],
   "source": [
    "# plot past performing loans for each district\n",
    "fig= plt.figure(figsize=(15,5))\n",
    "sns.barplot(x='district name', y='past performing loan ratio', data=joined_totals_a_loans)\n",
    "plt.xticks(rotation='vertical')\n",
    "plt.show()"
   ]
  },
  {
   "cell_type": "code",
   "execution_count": 16,
   "metadata": {},
   "outputs": [],
   "source": [
    "# work out ratio of B loans to total. B loans are past non-performing i.e. bad ones\n",
    "joined_totals_b_loans['past non-performing loan ratio'] = joined_totals_b_loans['loantotal_y'] / joined_totals_b_loans['loantotal_x']"
   ]
  },
  {
   "cell_type": "code",
   "execution_count": 17,
   "metadata": {},
   "outputs": [],
   "source": [
    "# sort on past non-performing loan ratios. worst districts at the top\n",
    "joined_totals_b_loans = joined_totals_b_loans.sort_values('past non-performing loan ratio', ascending=False)"
   ]
  },
  {
   "cell_type": "code",
   "execution_count": 18,
   "metadata": {},
   "outputs": [
    {
     "data": {
      "image/png": "[encoded data removed]",
      "text/plain": [
       "<Figure size 1080x360 with 1 Axes>"
      ]
     },
     "metadata": {
      "needs_background": "light"
     },
     "output_type": "display_data"
    }
   ],
   "source": [
    "# plot past performing loans for each district\n",
    "fig= plt.figure(figsize=(15,5))\n",
    "sns.barplot(x='district name', y='past non-performing loan ratio', data=joined_totals_b_loans)\n",
    "plt.xticks(rotation='vertical')\n",
    "plt.show()"
   ]
  },
  {
   "cell_type": "markdown",
   "metadata": {},
   "source": [
    "We skipped the analysis for loan status C & D in the interest of time"
   ]
  },
  {
   "cell_type": "markdown",
   "metadata": {},
   "source": [
    "## Part B - a breakdown of default rates by client demographic (age, gender)\n",
    "### Source Data For Part B\n",
    "\n",
    "Query the database in SQL using multiple LEFT JOIN, CASE and GROUP BY to produce the .csv file"
   ]
  },
  {
   "cell_type": "code",
   "execution_count": 19,
   "metadata": {},
   "outputs": [],
   "source": [
    "# import the .csv file for gender\n",
    "df2 = pd.read_csv('default_rate.csv')"
   ]
  },
  {
   "cell_type": "code",
   "execution_count": 20,
   "metadata": {},
   "outputs": [
    {
     "data": {
      "text/html": [
       "<div>\n",
       "<style scoped>\n",
       "    .dataframe tbody tr th:only-of-type {\n",
       "        vertical-align: middle;\n",
       "    }\n",
       "\n",
       "    .dataframe tbody tr th {\n",
       "        vertical-align: top;\n",
       "    }\n",
       "\n",
       "    .dataframe thead th {\n",
       "        text-align: right;\n",
       "    }\n",
       "</style>\n",
       "<table border=\"1\" class=\"dataframe\">\n",
       "  <thead>\n",
       "    <tr style=\"text-align: right;\">\n",
       "      <th></th>\n",
       "      <th>gender</th>\n",
       "      <th>default_rate</th>\n",
       "    </tr>\n",
       "  </thead>\n",
       "  <tbody>\n",
       "    <tr>\n",
       "      <th>0</th>\n",
       "      <td>M</td>\n",
       "      <td>0.122807</td>\n",
       "    </tr>\n",
       "    <tr>\n",
       "      <th>1</th>\n",
       "      <td>F</td>\n",
       "      <td>0.141667</td>\n",
       "    </tr>\n",
       "  </tbody>\n",
       "</table>\n",
       "</div>"
      ],
      "text/plain": [
       "  gender  default_rate\n",
       "0      M      0.122807\n",
       "1      F      0.141667"
      ]
     },
     "execution_count": 20,
     "metadata": {},
     "output_type": "execute_result"
    }
   ],
   "source": [
    "# see dataframe by gender\n",
    "df2"
   ]
  },
  {
   "cell_type": "code",
   "execution_count": 21,
   "metadata": {},
   "outputs": [],
   "source": [
    "# import the .csv file for gender\n",
    "df3 = pd.read_csv('default_rate_age.csv')"
   ]
  },
  {
   "cell_type": "code",
   "execution_count": 22,
   "metadata": {},
   "outputs": [
    {
     "data": {
      "text/html": [
       "<div>\n",
       "<style scoped>\n",
       "    .dataframe tbody tr th:only-of-type {\n",
       "        vertical-align: middle;\n",
       "    }\n",
       "\n",
       "    .dataframe tbody tr th {\n",
       "        vertical-align: top;\n",
       "    }\n",
       "\n",
       "    .dataframe thead th {\n",
       "        text-align: right;\n",
       "    }\n",
       "</style>\n",
       "<table border=\"1\" class=\"dataframe\">\n",
       "  <thead>\n",
       "    <tr style=\"text-align: right;\">\n",
       "      <th></th>\n",
       "      <th>age</th>\n",
       "      <th>default_rate</th>\n",
       "    </tr>\n",
       "  </thead>\n",
       "  <tbody>\n",
       "    <tr>\n",
       "      <th>0</th>\n",
       "      <td>61</td>\n",
       "      <td>0.285714</td>\n",
       "    </tr>\n",
       "    <tr>\n",
       "      <th>1</th>\n",
       "      <td>71</td>\n",
       "      <td>0.200000</td>\n",
       "    </tr>\n",
       "    <tr>\n",
       "      <th>2</th>\n",
       "      <td>56</td>\n",
       "      <td>0.142857</td>\n",
       "    </tr>\n",
       "    <tr>\n",
       "      <th>3</th>\n",
       "      <td>73</td>\n",
       "      <td>0.200000</td>\n",
       "    </tr>\n",
       "    <tr>\n",
       "      <th>4</th>\n",
       "      <td>49</td>\n",
       "      <td>0.125000</td>\n",
       "    </tr>\n",
       "  </tbody>\n",
       "</table>\n",
       "</div>"
      ],
      "text/plain": [
       "   age  default_rate\n",
       "0   61      0.285714\n",
       "1   71      0.200000\n",
       "2   56      0.142857\n",
       "3   73      0.200000\n",
       "4   49      0.125000"
      ]
     },
     "execution_count": 22,
     "metadata": {},
     "output_type": "execute_result"
    }
   ],
   "source": [
    "# see dataframe by age\n",
    "df3.head()"
   ]
  },
  {
   "cell_type": "markdown",
   "metadata": {},
   "source": [
    "### Cleanse Data (B)\n",
    "No cleansing required"
   ]
  },
  {
   "cell_type": "markdown",
   "metadata": {},
   "source": [
    "### Explore Data (B)\n",
    "Females have slightly higher default rates. It must be their higher propensity to go clothes shopping!"
   ]
  },
  {
   "cell_type": "code",
   "execution_count": 23,
   "metadata": {},
   "outputs": [
    {
     "data": {
      "image/png": "[encoded data removed]",
      "text/plain": [
       "<Figure size 720x360 with 1 Axes>"
      ]
     },
     "metadata": {
      "needs_background": "light"
     },
     "output_type": "display_data"
    }
   ],
   "source": [
    "# plot default rates by gender\n",
    "fig= plt.figure(figsize=(10,5))\n",
    "sns.barplot(x='gender', y='default_rate', data=df2)\n",
    "# plt.xticks(rotation='vertical')\n",
    "plt.show()"
   ]
  },
  {
   "cell_type": "code",
   "execution_count": 24,
   "metadata": {},
   "outputs": [
    {
     "data": {
      "image/png": "[encoded data removed]",
      "text/plain": [
       "<Figure size 1080x360 with 1 Axes>"
      ]
     },
     "metadata": {
      "needs_background": "light"
     },
     "output_type": "display_data"
    }
   ],
   "source": [
    "# plot default rates by age\n",
    "fig= plt.figure(figsize=(15,5))\n",
    "sns.barplot(x='age', y='default_rate', data=df3)\n",
    "# plt.xticks(rotation='vertical')\n",
    "plt.show()"
   ]
  },
  {
   "cell_type": "markdown",
   "metadata": {},
   "source": [
    "## Conclusion\n",
    "In Czech Republic, the districts of Usti Nad Labem, Praha and Cheb have the best past performing loans, whereas Sokolov has the highest ratio of past non-performing loans.\n",
    "\n",
    "In terms of client gender, females have a slightly higher default rate than males.\n",
    "\n",
    "In terms of client age, age 44 and 72 have the highest default rates. I would like to group ages and combine it with gender data for future work\n",
    "\n",
    "I did not have time to work on part C"
   ]
  },
  {
   "cell_type": "code",
   "execution_count": null,
   "metadata": {},
   "outputs": [],
   "source": []
  }
 ],
 "metadata": {
  "kernelspec": {
   "display_name": "Python 3",
   "language": "python",
   "name": "python3"
  },
  "language_info": {
   "codemirror_mode": {
    "name": "ipython",
    "version": 3
   },
   "file_extension": ".py",
   "mimetype": "text/x-python",
   "name": "python",
   "nbconvert_exporter": "python",
   "pygments_lexer": "ipython3",
   "version": "3.7.1"
  }
 },
 "nbformat": 4,
 "nbformat_minor": 2
}
